{
 "cells": [
  {
   "cell_type": "code",
   "execution_count": 25,
   "id": "aae09ba7",
   "metadata": {},
   "outputs": [
    {
     "name": "stdout",
     "output_type": "stream",
     "text": [
      "+-----+------+---------+----+-------------------+-------+-------+------+\n",
      "|EMPNO| ENAME|      JOB| MGR|           HIREDATE|    SAL|   COMM|DEPTNO|\n",
      "+-----+------+---------+----+-------------------+-------+-------+------+\n",
      "| 7839|  KING|PRESIDENT|NULL|1981-11-17 00:00:00|5000.00|   NULL|    10|\n",
      "| 7698| BLAKE|  MANAGER|7839|1981-05-01 00:00:00|2850.00|   NULL|    30|\n",
      "| 7782| CLARK|  MANAGER|7839|1981-06-09 00:00:00|2450.00|   NULL|    10|\n",
      "| 7566| JONES|  MANAGER|7839|1981-04-02 00:00:00|2975.00|   NULL|    20|\n",
      "| 7788| SCOTT|  ANALYST|7566|1987-04-19 00:00:00|3000.00|   NULL|    20|\n",
      "| 7902|  FORD|  ANALYST|7566|1981-12-03 00:00:00|3000.00|   NULL|    20|\n",
      "| 7369| SMITH|    CLERK|7902|1980-12-17 00:00:00| 800.00|   NULL|    20|\n",
      "| 7499| ALLEN| SALESMAN|7698|1981-02-20 00:00:00|1600.00| 300.00|    30|\n",
      "| 7521|  WARD| SALESMAN|7698|1981-02-22 00:00:00|1250.00| 500.00|    30|\n",
      "| 7654|MARTIN| SALESMAN|7698|1981-09-28 00:00:00|1250.00|1400.00|    30|\n",
      "| 7844|TURNER| SALESMAN|7698|1981-09-08 00:00:00|1500.00|   0.00|    30|\n",
      "| 7876| ADAMS|    CLERK|7788|1987-05-23 00:00:00|1100.00|   NULL|    20|\n",
      "| 7900| JAMES|    CLERK|7698|1981-12-03 00:00:00| 950.00|   NULL|    10|\n",
      "| 7934|MILLER|    CLERK|7782|1982-01-23 00:00:00|1500.00|   NULL|    10|\n",
      "| 7945|   ROB|  ANALYST|7698|1983-01-20 00:00:00|3500.00|   NULL|    10|\n",
      "| 7965|  MIKE|    CLERK|7782|1985-04-20 00:00:00|2500.00|   NULL|    20|\n",
      "+-----+------+---------+----+-------------------+-------+-------+------+\n",
      "\n",
      "+-----+------+---------+----+-------------------+-------+-------+------+\n",
      "|EMPNO| ENAME|      JOB| MGR|           HIREDATE|    SAL|   COMM|DEPTNO|\n",
      "+-----+------+---------+----+-------------------+-------+-------+------+\n",
      "| 7499| ALLEN| SALESMAN|7698|1981-02-20 00:00:00|1600.00| 300.00|    30|\n",
      "| 7566| JONES|  MANAGER|7839|1981-04-02 00:00:00|2975.00|   NULL|    20|\n",
      "| 7900| JAMES|    CLERK|7698|1981-12-03 00:00:00| 950.00|   NULL|    30|\n",
      "| 7839|  KING|PRESIDENT|NULL|1981-11-17 00:00:00|5000.00|   NULL|    10|\n",
      "| 7934|MILLER|    CLERK|7782|1982-01-23 00:00:00|1300.00|   NULL|    10|\n",
      "| 7369| SMITH|    CLERK|7902|1980-12-17 00:00:00| 800.00|   NULL|    20|\n",
      "| 7782| CLARK|  MANAGER|7839|1981-06-09 00:00:00|2450.00|   NULL|    10|\n",
      "| 7876| ADAMS|    CLERK|7788|1987-05-23 00:00:00|1100.00|   NULL|    20|\n",
      "| 7965|  MIKE|    CLERK|7782|1985-04-20 00:00:00|2500.00|   NULL|    20|\n",
      "| 7844|TURNER| SALESMAN|7698|1981-09-08 00:00:00|1500.00|   0.00|    30|\n",
      "| 7788| SCOTT|  ANALYST|7566|1987-04-19 00:00:00|3000.00|   NULL|    20|\n",
      "| 7945|   ROB|  ANALYST|7698|1983-01-20 00:00:00|3500.00|   NULL|    30|\n",
      "| 7654|MARTIN| SALESMAN|7698|1981-09-28 00:00:00|1250.00|1400.00|    30|\n",
      "| 7902|  FORD|  ANALYST|7566|1981-12-03 00:00:00|3000.00|   NULL|    20|\n",
      "| 7698| BLAKE|  MANAGER|7839|1981-05-01 00:00:00|2850.00|   NULL|    30|\n",
      "| 7521|  WARD| SALESMAN|7698|1981-02-22 00:00:00|1250.00| 500.00|    30|\n",
      "+-----+------+---------+----+-------------------+-------+-------+------+\n",
      "\n",
      "JDBC connection test successful.\n"
     ]
    }
   ],
   "source": [
    "from pyspark.sql import SparkSession\n",
    "\n",
    "# Replace with your Oracle connection details\n",
    "jdbc_url = \"jdbc:oracle:thin:@//localhost:1521/xe\"\n",
    "username = \"HR\"\n",
    "password = \"HR\"\n",
    "\n",
    "try:\n",
    "    # Create a Spark session with JDBC options\n",
    "    spark = SparkSession.builder.appName(\"JDBCConnectivityTest\").getOrCreate()\n",
    "    EMP_SRC_df = spark.read.jdbc(url=jdbc_url, table=\"EMP_SRC\",  properties={\"user\": username, \"password\": password})\n",
    "    EMP_PYSPARK_SCD1_df = spark.read.jdbc(url=jdbc_url, table=\"EMP_PYSPARK_SCD1\",  properties={\"user\": username, \"password\": password})\n",
    "    # If the connection was successful, you can print the result\n",
    "    EMP_SRC_df.show()\n",
    "    EMP_PYSPARK_SCD1_df.show()\n",
    "   # spark.stop()\n",
    "    print(\"JDBC connection test successful.\")\n",
    "except Exception as e:\n",
    "    print(f\"JDBC connection test failed: {str(e)}\")"
   ]
  },
  {
   "cell_type": "code",
   "execution_count": 26,
   "id": "55742f9a",
   "metadata": {},
   "outputs": [
    {
     "name": "stdout",
     "output_type": "stream",
     "text": [
      "+-----+------+-------+----+-------------------+-------+----+------+\n",
      "|EMPNO| ENAME|    JOB| MGR|           HIREDATE|    SAL|COMM|DEPTNO|\n",
      "+-----+------+-------+----+-------------------+-------+----+------+\n",
      "| 7900| JAMES|  CLERK|7698|1981-12-03 00:00:00| 950.00|NULL|    10|\n",
      "| 7934|MILLER|  CLERK|7782|1982-01-23 00:00:00|1500.00|NULL|    10|\n",
      "| 7945|   ROB|ANALYST|7698|1983-01-20 00:00:00|3500.00|NULL|    10|\n",
      "+-----+------+-------+----+-------------------+-------+----+------+\n",
      "\n"
     ]
    }
   ],
   "source": [
    "from pyspark.sql.functions import col\n",
    "\n",
    "# Step 1: Identify records to update\n",
    "updates_df = EMP_SRC_df.alias(\"src\") \\\n",
    "    .join(EMP_PYSPARK_SCD1_df.alias(\"tgt\"), on=\"EMPNO\") \\\n",
    "    .filter(\n",
    "        (col(\"src.JOB\") != col(\"tgt.JOB\")) |\n",
    "        (col(\"src.SAL\") != col(\"tgt.SAL\")) |\n",
    "        (col(\"src.COMM\") != col(\"tgt.COMM\")) |\n",
    "        (col(\"src.MGR\") != col(\"tgt.MGR\")) |\n",
    "        (col(\"src.DEPTNO\") != col(\"tgt.DEPTNO\"))\n",
    "    ) \\\n",
    "    .select(\"src.*\")\n",
    "updates_df.show()"
   ]
  },
  {
   "cell_type": "code",
   "execution_count": 27,
   "id": "9a0a78a7",
   "metadata": {},
   "outputs": [
    {
     "name": "stdout",
     "output_type": "stream",
     "text": [
      "+-----+-----+---+---+--------+---+----+------+\n",
      "|EMPNO|ENAME|JOB|MGR|HIREDATE|SAL|COMM|DEPTNO|\n",
      "+-----+-----+---+---+--------+---+----+------+\n",
      "+-----+-----+---+---+--------+---+----+------+\n",
      "\n"
     ]
    }
   ],
   "source": [
    "# Step 2: Identify records to insert\n",
    "# Left anti join to find records in EMP_SRC that are not in EMP_PYSPARK_SCD1\n",
    "inserts_df = EMP_SRC_df.alias(\"src\") \\\n",
    "    .join(EMP_PYSPARK_SCD1_df.alias(\"tgt\"), on=\"EMPNO\", how=\"left_anti\") \\\n",
    "    .select(\"src.*\")\n",
    "inserts_df.show()"
   ]
  },
  {
   "cell_type": "code",
   "execution_count": 28,
   "id": "61f2da21",
   "metadata": {},
   "outputs": [
    {
     "name": "stdout",
     "output_type": "stream",
     "text": [
      "+-----+-----+---+---+--------+---+----+------+\n",
      "|EMPNO|ENAME|JOB|MGR|HIREDATE|SAL|COMM|DEPTNO|\n",
      "+-----+-----+---+---+--------+---+----+------+\n",
      "+-----+-----+---+---+--------+---+----+------+\n",
      "\n"
     ]
    }
   ],
   "source": [
    "# Step 3 : Identify records unchanged\n",
    "# Left join to find records in EMP_PYSPARK_SCD1 that are not in EMP_SRC\n",
    "unchanged_df = EMP_PYSPARK_SCD1_df.alias(\"tgt\") \\\n",
    "    .join(EMP_SRC_df.alias(\"src\"), on=\"EMPNO\", how=\"left_anti\") \\\n",
    "    .select(\"tgt.*\")\n",
    "unchanged_df.show()"
   ]
  },
  {
   "cell_type": "code",
   "execution_count": null,
   "id": "b4de4b29",
   "metadata": {},
   "outputs": [
    {
     "name": "stdout",
     "output_type": "stream",
     "text": [
      "+-----+------+-------+----+-------------------+-------+----+------+\n",
      "|EMPNO| ENAME|    JOB| MGR|           HIREDATE|    SAL|COMM|DEPTNO|\n",
      "+-----+------+-------+----+-------------------+-------+----+------+\n",
      "| 7900| JAMES|  CLERK|7698|1981-12-03 00:00:00| 950.00|NULL|    10|\n",
      "| 7934|MILLER|  CLERK|7782|1982-01-23 00:00:00|1500.00|NULL|    10|\n",
      "| 7945|   ROB|ANALYST|7698|1983-01-20 00:00:00|3500.00|NULL|    10|\n",
      "+-----+------+-------+----+-------------------+-------+----+------+\n",
      "\n"
     ]
    }
   ],
   "source": [
    "# Step 4: Final SCD1 union of all data\n",
    "final_df = unchanged_df.unionByName(updates_df).unionByName(inserts_df)\n",
    "# Show the final DataFrame\n",
    "final_df.show()"
   ]
  },
  {
   "cell_type": "code",
   "execution_count": 30,
   "id": "fe9919f2",
   "metadata": {},
   "outputs": [],
   "source": [
    "# Replace with your Oracle connection details\n",
    "jdbc_url = \"jdbc:oracle:thin:@//localhost:1521/xe\"\n",
    "username = \"HR\"\n",
    "password = \"HR\"\n",
    "\n",
    "final_df.write.jdbc(\n",
    "url=jdbc_url, \n",
    "table=\"EMP_PYSPARK_SCD1\", \n",
    "mode=\"overwrite\", \n",
    "properties={\"user\": username, \"password\": password}\n",
    " )\n",
    "    "
   ]
  }
 ],
 "metadata": {
  "kernelspec": {
   "display_name": "Python 3",
   "language": "python",
   "name": "python3"
  },
  "language_info": {
   "codemirror_mode": {
    "name": "ipython",
    "version": 3
   },
   "file_extension": ".py",
   "mimetype": "text/x-python",
   "name": "python",
   "nbconvert_exporter": "python",
   "pygments_lexer": "ipython3",
   "version": "3.10.10"
  }
 },
 "nbformat": 4,
 "nbformat_minor": 5
}
